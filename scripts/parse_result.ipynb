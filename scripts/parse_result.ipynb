{
 "cells": [
  {
   "cell_type": "code",
   "execution_count": null,
   "metadata": {},
   "outputs": [],
   "source": [
    "import os\n",
    "import numpy as np\n",
    "import glob\n",
    "from pathlib import Path\n",
    "import re\n",
    "\n",
    "for path in Path('src').rglob('*.c'):\n",
    "    print(path.name)\n",
    "\n",
    "# for dataset in ['Bike_Sharing_Demand']:\n",
    "for dataset in ['abalone', 'house_sales', 'analcatdata_supreme', 'Bike_Sharing_Demand']:\n",
    "    before_mse_list, after_mse_list = [], []\n",
    "    log_dir = f\"log/regression_dem/{dataset}\"\n",
    "\n",
    "    before_p = re.compile('^test_loss before adaptation')\n",
    "    after_p = re.compile('^test_loss after adaptation')\n",
    "\n",
    "    for path in Path(log_dir).rglob('*.txt'):\n",
    "        f = \"\".join(open(path, \"r\").readlines())\n",
    "        before_mse = before_p.search(f)\n",
    "        after_mse = after_p.search(f)\n",
    "\n",
    "        before_mse_list.append(before_mse)\n",
    "        after_mse_list.append(after_mse)\n",
    "    before_mse_list = np.array(before_mse_list)\n",
    "    after_mse_list = np.array(after_mse_list)\n",
    "\n",
    "    before_mean = np.mean(before_mse_list)\n",
    "    before_se = np.std(before_mse_list, ddof=1) / np.sqrt(len(before_mse_list))\n",
    "\n",
    "    after_mean = np.mean(after_mse_list)\n",
    "    after_se = np.std(after_mse_list, ddof=1) / np.sqrt(len(after_mse_list))\n",
    "\n",
    "    print(f\"dataset: {dataset}\")\n",
    "    print(f\"before: {before_mean:.4f} ± {before_se:.4f}\")\n",
    "    print(f\"after: {after_mean:.4f} ± {after_se:.4f}\")"
   ]
  }
 ],
 "metadata": {
  "language_info": {
   "name": "python"
  },
  "orig_nbformat": 4
 },
 "nbformat": 4,
 "nbformat_minor": 2
}
