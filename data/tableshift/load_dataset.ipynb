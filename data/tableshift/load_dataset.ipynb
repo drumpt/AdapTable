{
 "cells": [
  {
   "cell_type": "code",
   "execution_count": 5,
   "metadata": {},
   "outputs": [
    {
     "name": "stdout",
     "output_type": "stream",
     "text": [
      "experiment: compas\n",
      "dset.is_domain_split: False\n",
      "split ood_test not in ['train', 'validation', 'test']\n",
      "experiment: german\n",
      "dset.is_domain_split: False\n",
      "split ood_test not in ['train', 'validation', 'test']\n",
      "experiment: Higgs\n"
     ]
    },
    {
     "name": "stderr",
     "output_type": "stream",
     "text": [
      "WARNING:datasets.builder:Found cached dataset csv (/home/server04/hdd/changhun_workspace/Tabular-Learning/data/tableshift/tmp/inria-soda___csv/inria-soda--tabular-benchmark-bddfe803aa35c559/0.0.0/6b34fb8fcf56f7c8ba51dc895bfa2bfbe43546f190a60fcf74bb5e8afdcc2317)\n",
      "100%|██████████| 1/1 [00:00<00:00, 17.20it/s]\n"
     ]
    },
    {
     "name": "stdout",
     "output_type": "stream",
     "text": [
      "dset.is_domain_split: False\n",
      "split ood_test not in ['train', 'validation', 'test']\n",
      "experiment: MagicTelescope\n"
     ]
    },
    {
     "name": "stderr",
     "output_type": "stream",
     "text": [
      "WARNING:datasets.builder:Found cached dataset csv (/home/server04/hdd/changhun_workspace/Tabular-Learning/data/tableshift/tmp/inria-soda___csv/inria-soda--tabular-benchmark-bf0fbd2333a2c5b7/0.0.0/6b34fb8fcf56f7c8ba51dc895bfa2bfbe43546f190a60fcf74bb5e8afdcc2317)\n",
      "100%|██████████| 1/1 [00:00<00:00, 224.56it/s]\n"
     ]
    },
    {
     "name": "stdout",
     "output_type": "stream",
     "text": [
      "dset.is_domain_split: False\n",
      "split ood_test not in ['train', 'validation', 'test']\n",
      "experiment: MiniBooNE\n"
     ]
    },
    {
     "name": "stderr",
     "output_type": "stream",
     "text": [
      "WARNING:datasets.builder:Found cached dataset csv (/home/server04/hdd/changhun_workspace/Tabular-Learning/data/tableshift/tmp/inria-soda___csv/inria-soda--tabular-benchmark-d069904db1d37a4b/0.0.0/6b34fb8fcf56f7c8ba51dc895bfa2bfbe43546f190a60fcf74bb5e8afdcc2317)\n",
      "100%|██████████| 1/1 [00:00<00:00, 72.81it/s]\n"
     ]
    },
    {
     "name": "stdout",
     "output_type": "stream",
     "text": [
      "dset.is_domain_split: False\n",
      "split ood_test not in ['train', 'validation', 'test']\n",
      "experiment: bank-marketing\n"
     ]
    },
    {
     "name": "stderr",
     "output_type": "stream",
     "text": [
      "WARNING:datasets.builder:Found cached dataset csv (/home/server04/hdd/changhun_workspace/Tabular-Learning/data/tableshift/tmp/inria-soda___csv/inria-soda--tabular-benchmark-85066fab0251bcc0/0.0.0/6b34fb8fcf56f7c8ba51dc895bfa2bfbe43546f190a60fcf74bb5e8afdcc2317)\n",
      "100%|██████████| 1/1 [00:00<00:00, 304.62it/s]\n"
     ]
    },
    {
     "name": "stdout",
     "output_type": "stream",
     "text": [
      "dset.is_domain_split: False\n",
      "split ood_test not in ['train', 'validation', 'test']\n",
      "experiment: california\n"
     ]
    },
    {
     "name": "stderr",
     "output_type": "stream",
     "text": [
      "WARNING:datasets.builder:Found cached dataset csv (/home/server04/hdd/changhun_workspace/Tabular-Learning/data/tableshift/tmp/inria-soda___csv/inria-soda--tabular-benchmark-c1506da7680f2ffd/0.0.0/6b34fb8fcf56f7c8ba51dc895bfa2bfbe43546f190a60fcf74bb5e8afdcc2317)\n",
      "100%|██████████| 1/1 [00:00<00:00, 262.06it/s]\n"
     ]
    },
    {
     "name": "stdout",
     "output_type": "stream",
     "text": [
      "dset.is_domain_split: False\n",
      "split ood_test not in ['train', 'validation', 'test']\n",
      "experiment: covertype\n"
     ]
    },
    {
     "name": "stderr",
     "output_type": "stream",
     "text": [
      "WARNING:datasets.builder:Found cached dataset csv (/home/server04/hdd/changhun_workspace/Tabular-Learning/data/tableshift/tmp/inria-soda___csv/inria-soda--tabular-benchmark-fd53923ec4f9b06e/0.0.0/6b34fb8fcf56f7c8ba51dc895bfa2bfbe43546f190a60fcf74bb5e8afdcc2317)\n",
      "100%|██████████| 1/1 [00:00<00:00, 17.89it/s]\n"
     ]
    },
    {
     "name": "stdout",
     "output_type": "stream",
     "text": [
      "dset.is_domain_split: False\n",
      "split ood_test not in ['train', 'validation', 'test']\n",
      "experiment: credit\n"
     ]
    },
    {
     "name": "stderr",
     "output_type": "stream",
     "text": [
      "WARNING:datasets.builder:Found cached dataset csv (/home/server04/hdd/changhun_workspace/Tabular-Learning/data/tableshift/tmp/inria-soda___csv/inria-soda--tabular-benchmark-b46f685b7dca35fa/0.0.0/6b34fb8fcf56f7c8ba51dc895bfa2bfbe43546f190a60fcf74bb5e8afdcc2317)\n",
      "100%|██████████| 1/1 [00:00<00:00, 250.50it/s]\n"
     ]
    },
    {
     "name": "stdout",
     "output_type": "stream",
     "text": [
      "dset.is_domain_split: False\n",
      "split ood_test not in ['train', 'validation', 'test']\n",
      "experiment: diabetes_readmission\n"
     ]
    },
    {
     "name": "stderr",
     "output_type": "stream",
     "text": [
      "/home/server04/hdd/changhun_workspace/Tabular-Learning/data/tableshift/tableshift/core/data_source.py:74: DtypeWarning: Columns (10) have mixed types.Specify dtype option on import or set low_memory=False.\n",
      "  raw_data = self._load_data()\n"
     ]
    },
    {
     "name": "stdout",
     "output_type": "stream",
     "text": [
      "dset.is_domain_split: True\n",
      "too many values to unpack (expected 3)\n",
      "experiment: default-of-credit-card-clients\n"
     ]
    },
    {
     "name": "stderr",
     "output_type": "stream",
     "text": [
      "WARNING:datasets.builder:Found cached dataset csv (/home/server04/hdd/changhun_workspace/Tabular-Learning/data/tableshift/tmp/inria-soda___csv/inria-soda--tabular-benchmark-6b97d3ec616a3bb1/0.0.0/6b34fb8fcf56f7c8ba51dc895bfa2bfbe43546f190a60fcf74bb5e8afdcc2317)\n",
      "100%|██████████| 1/1 [00:00<00:00, 177.83it/s]\n"
     ]
    },
    {
     "name": "stdout",
     "output_type": "stream",
     "text": [
      "dset.is_domain_split: False\n",
      "split ood_test not in ['train', 'validation', 'test']\n",
      "experiment: electricity\n"
     ]
    },
    {
     "name": "stderr",
     "output_type": "stream",
     "text": [
      "WARNING:datasets.builder:Found cached dataset csv (/home/server04/hdd/changhun_workspace/Tabular-Learning/data/tableshift/tmp/inria-soda___csv/inria-soda--tabular-benchmark-04f32a8b4b1c8af1/0.0.0/6b34fb8fcf56f7c8ba51dc895bfa2bfbe43546f190a60fcf74bb5e8afdcc2317)\n",
      "100%|██████████| 1/1 [00:00<00:00, 218.21it/s]\n"
     ]
    },
    {
     "name": "stdout",
     "output_type": "stream",
     "text": [
      "dset.is_domain_split: False\n",
      "split ood_test not in ['train', 'validation', 'test']\n",
      "experiment: eye_movements\n"
     ]
    },
    {
     "name": "stderr",
     "output_type": "stream",
     "text": [
      "WARNING:datasets.builder:Found cached dataset csv (/home/server04/hdd/changhun_workspace/Tabular-Learning/data/tableshift/tmp/inria-soda___csv/inria-soda--tabular-benchmark-f57989159091cef6/0.0.0/6b34fb8fcf56f7c8ba51dc895bfa2bfbe43546f190a60fcf74bb5e8afdcc2317)\n",
      "100%|██████████| 1/1 [00:00<00:00, 188.30it/s]\n"
     ]
    },
    {
     "name": "stdout",
     "output_type": "stream",
     "text": [
      "dset.is_domain_split: False\n",
      "split ood_test not in ['train', 'validation', 'test']\n",
      "experiment: heart-disease\n",
      "dset.is_domain_split: False\n",
      "split ood_test not in ['train', 'validation', 'test']\n",
      "experiment: house_16H\n"
     ]
    },
    {
     "name": "stderr",
     "output_type": "stream",
     "text": [
      "WARNING:datasets.builder:Found cached dataset csv (/home/server04/hdd/changhun_workspace/Tabular-Learning/data/tableshift/tmp/inria-soda___csv/inria-soda--tabular-benchmark-05e0fcc97bf0438c/0.0.0/6b34fb8fcf56f7c8ba51dc895bfa2bfbe43546f190a60fcf74bb5e8afdcc2317)\n",
      "100%|██████████| 1/1 [00:00<00:00, 220.79it/s]\n"
     ]
    },
    {
     "name": "stdout",
     "output_type": "stream",
     "text": [
      "dset.is_domain_split: False\n",
      "split ood_test not in ['train', 'validation', 'test']\n",
      "experiment: jannis\n"
     ]
    },
    {
     "name": "stderr",
     "output_type": "stream",
     "text": [
      "WARNING:datasets.builder:Found cached dataset csv (/home/server04/hdd/changhun_workspace/Tabular-Learning/data/tableshift/tmp/inria-soda___csv/inria-soda--tabular-benchmark-d228f3e282255073/0.0.0/6b34fb8fcf56f7c8ba51dc895bfa2bfbe43546f190a60fcf74bb5e8afdcc2317)\n",
      "100%|██████████| 1/1 [00:00<00:00, 75.00it/s]\n"
     ]
    },
    {
     "name": "stdout",
     "output_type": "stream",
     "text": [
      "dset.is_domain_split: False\n",
      "split ood_test not in ['train', 'validation', 'test']\n",
      "experiment: pol\n"
     ]
    },
    {
     "name": "stderr",
     "output_type": "stream",
     "text": [
      "WARNING:datasets.builder:Found cached dataset csv (/home/server04/hdd/changhun_workspace/Tabular-Learning/data/tableshift/tmp/inria-soda___csv/inria-soda--tabular-benchmark-fad9f82583e9f2aa/0.0.0/6b34fb8fcf56f7c8ba51dc895bfa2bfbe43546f190a60fcf74bb5e8afdcc2317)\n",
      "100%|██████████| 1/1 [00:00<00:00, 169.28it/s]\n"
     ]
    },
    {
     "name": "stdout",
     "output_type": "stream",
     "text": [
      "dset.is_domain_split: False\n",
      "split ood_test not in ['train', 'validation', 'test']\n",
      "experiment: road-safety\n"
     ]
    },
    {
     "name": "stderr",
     "output_type": "stream",
     "text": [
      "WARNING:datasets.builder:Found cached dataset csv (/home/server04/hdd/changhun_workspace/Tabular-Learning/data/tableshift/tmp/inria-soda___csv/inria-soda--tabular-benchmark-4897abece19e7f01/0.0.0/6b34fb8fcf56f7c8ba51dc895bfa2bfbe43546f190a60fcf74bb5e8afdcc2317)\n",
      "100%|██████████| 1/1 [00:00<00:00, 73.63it/s]\n"
     ]
    },
    {
     "name": "stdout",
     "output_type": "stream",
     "text": [
      "dset.is_domain_split: False\n",
      "split ood_test not in ['train', 'validation', 'test']\n",
      "experiment: wine\n",
      "dset.is_domain_split: False\n",
      "split ood_test not in ['train', 'validation', 'test']\n",
      "experiment: wine-quality\n",
      "dset.is_domain_split: False\n",
      "split ood_test not in ['train', 'validation', 'test']\n",
      "experiment: adult\n",
      "dset.is_domain_split: False\n",
      "split ood_test not in ['train', 'validation', 'test']\n"
     ]
    }
   ],
   "source": [
    "from tableshift import get_dataset\n",
    "\n",
    "# experiment_list = [\"acsincome\" (엄청 오래걸림), \"acsfoodstamps\" (엄청 오래걸림), \"acspubcov\" (엄청 오래걸림), \"acsunemployment\" (엄청 오래걸림), \"brfss_diabetes\", \"brfss_blood_pressure\"]\n",
    "\n",
    "# \"nhanes_cholesterol\" (엄청 오래걸림), \"nhanes_lead\" (엄청 오래걸림), \"physionet\" (엄청 오래걸림), \"anes\" (permission), \"heloc\" (permission), \"mimic_extract_los_3\" (permission), \"mimic_extract_mort_hosp\" (permission), \"mooc\" (permissoin),\n",
    "\n",
    "# (잘됨) experiment_list = [\"compas\", \"german\", 'Higgs', 'MagicTelescope', 'MiniBooNE', 'bank-marketing', 'california', 'covertype', 'credit', 'diabetes_readmission' (id/ood), 'default-of-credit-card-clients', 'electricity', 'eye_movements', 'heart-disease', 'house_16H', 'jannis', 'pol', 'road-safety', 'wine', 'wine-quality', 'adult']\n",
    "\n",
    "# (No kaggle credentials found at /home/server04/.kaggle/kaggle.json.) ['ad-fraud', 'amazon', 'assistments', 'click', 'college_scorecard', 'home-credit-default-risk', 'ieee-fraud-detection', 'kick', 'kick_starter_funding', 'otto-products', 'plasticc', 'safe-driver-prediction', 'santander-customer-satisfaction', 'santander-transactions', 'sf-crime', 'tradeshift', 'walmart']\n",
    "\n",
    "# (auto_mm_bench) library 없음: 'data_scientist_salary', 'fake_job_postings2' 'imdb_genre_prediction' 'jigsaw_unintended_bias100K' 'melbourne_airbnb' 'news_channel' 'product_sentiment_machine_hack' 'wine_reviews'\n",
    "\n",
    "# feature type (too many dimensions 'str'): appetency 'breast-cancer' 'cars', 'churn', 'dry-bean' 'iris' 'raisin' 'rice'\n",
    "# (feature 없음) '_debug', 'abalone' 'amex-default' 'communities_and_crime' 'schizophrenia' 'titanic' 'upselling'\n",
    "\n",
    "# metamimic 없음: 'metamimic_alcohol', 'metamimic_anemia', 'metamimic_atrial', 'metamimic_diabetes', 'metamimic_heart', 'metamimic_hypertension', 'metamimic_hypotension', 'metamimic_ischematic', 'metamimic_lipoid', 'metamimic_overweight', 'metamimic_purpura', 'metamimic_respiratory' \n",
    "# mimic: 'mimic_extract_los_3', 'mimic_extract_los_3_selected', 'mimic_extract_mort_hosp', 'mimic_extract_mort_hosp_selected'\n",
    "\n",
    "# mooc: 수동 다운\n",
    "\n",
    "experiment_list = [\"compas\", \"german\", 'Higgs', 'MagicTelescope', 'MiniBooNE', 'bank-marketing', 'california', 'covertype', 'credit', 'diabetes_readmission', 'default-of-credit-card-clients', 'electricity', 'eye_movements', 'heart-disease', 'house_16H', 'jannis', 'pol', 'road-safety', 'wine', 'wine-quality', 'adult']\n",
    "for experiment in experiment_list:\n",
    "    print(f\"experiment: {experiment}\")\n",
    "    dset = get_dataset(experiment)\n",
    "    print(f\"dset.is_domain_split: {dset.is_domain_split}\")\n",
    "    try:\n",
    "        X_tr, y_tr, _, _ = dset.get_pandas(\"ood_test\")\n",
    "        train_loader = dset.get_dataloader(\"ood_test\", batch_size=1024)\n",
    "        for X, y, _ in train_loader:\n",
    "            print(f\"X.shape: {X.shape}\")\n",
    "            print(f\"y.shape: {y.shape}\")\n",
    "    except Exception as e:\n",
    "        print(e)"
   ]
  }
 ],
 "metadata": {
  "kernelspec": {
   "display_name": "tab",
   "language": "python",
   "name": "python3"
  },
  "language_info": {
   "codemirror_mode": {
    "name": "ipython",
    "version": 3
   },
   "file_extension": ".py",
   "mimetype": "text/x-python",
   "name": "python",
   "nbconvert_exporter": "python",
   "pygments_lexer": "ipython3",
   "version": "3.8.16"
  },
  "orig_nbformat": 4
 },
 "nbformat": 4,
 "nbformat_minor": 2
}
