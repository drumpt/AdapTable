{
 "cells": [
  {
   "cell_type": "code",
   "execution_count": 3,
   "id": "5d288b13",
   "metadata": {},
   "outputs": [],
   "source": [
    "from tableshift import get_dataset\n",
    "from tableshift.core import PreprocessorConfig\n",
    "import matplotlib.pyplot as plt\n",
    "\n",
    "from tableshift.models.utils import get_estimator\n",
    "from tableshift.models.training import train"
   ]
  },
  {
   "cell_type": "code",
<<<<<<< Updated upstream
   "execution_count": 42,
=======
   "execution_count": 83,
>>>>>>> Stashed changes
   "id": "0e1b2866",
   "metadata": {},
   "outputs": [],
   "source": [
<<<<<<< Updated upstream
    "experiment = 'compas'\n",
=======
    "experiment = 'communities_and_crime'\n",
>>>>>>> Stashed changes
    "# experiment = 'ad-fraud'\n",
    "# experiment = 'amazon'\n",
    "# experiment = 'ieee-fraud-detection'  # takes ~10min to load\n",
    "cache_dir = '../tmp'"
   ]
  },
  {
   "cell_type": "code",
<<<<<<< Updated upstream
   "execution_count": 43,
   "id": "79d2b11f",
   "metadata": {},
   "outputs": [],
   "source": [
    "dset = get_dataset(experiment, \n",
    "                  preprocessor_config=PreprocessorConfig(\n",
    "            categorical_features=\"passthrough\", dropna=None))"
=======
   "execution_count": 84,
   "id": "200beaf7",
   "metadata": {},
   "outputs": [
    {
     "ename": "ValueError",
     "evalue": "feature county not present in data withcolumns Index(['state', 'communityname', 'population', 'householdsize', 'agePct12t21',\n       'agePct12t29', 'agePct16t24', 'agePct65up', 'numbUrban', 'pctUrban',\n       'pctWWage', 'pctWFarmSelf', 'pctWInvInc', 'pctWSocSec', 'pctWPubAsst',\n       'pctWRetire', 'medFamInc', 'perCapInc', 'NumUnderPov', 'PctPopUnderPov',\n       'PctLess9thGrade', 'PctNotHSGrad', 'PctBSorMore', 'PctUnemployed',\n       'PctEmploy', 'PctEmplManu', 'PctEmplProfServ', 'PctOccupManu',\n       'PctOccupMgmtProf', 'MalePctDivorce', 'MalePctNevMarr', 'FemalePctDiv',\n       'TotalPctDiv', 'PersPerFam', 'PctFam2Par', 'PctKids2Par',\n       'PctYoungKids2Par', 'PctTeen2Par', 'PctWorkMomYoungKids', 'PctWorkMom',\n       'NumIlleg', 'PctIlleg', 'NumImmig', 'PctImmigRecent', 'PctImmigRec5',\n       'PctImmigRec8', 'PctImmigRec10', 'PctRecentImmig', 'PctRecImmig5',\n       'PctRecImmig8', 'PctRecImmig10', 'PctSpeakEnglOnly',\n       'PctNotSpeakEnglWell', 'PctLargHouseFam', 'PctLargHouseOccup',\n       'PersPerOccupHous', 'PersPerOwnOccHous', 'PersPerRentOccHous',\n       'PctPersOwnOccup', 'PctPersDenseHous', 'PctHousLess3BR', 'MedNumBR',\n       'HousVacant', 'PctHousOccup', 'PctHousOwnOcc', 'PctVacantBoarded',\n       'PctVacMore6Mos', 'MedYrHousBuilt', 'PctHousNoPhone', 'PctWOFullPlumb',\n       'OwnOccLowQuart', 'OwnOccMedVal', 'OwnOccHiQuart', 'RentLowQ',\n       'RentMedian', 'RentHighQ', 'MedRent', 'MedRentPctHousInc',\n       'MedOwnCostPctInc', 'MedOwnCostPctIncNoMtg', 'NumInShelters',\n       'NumStreet', 'PctForeignBorn', 'PctBornSameState', 'PctSameHouse85',\n       'PctSameCity85', 'PctSameState85', 'LandArea', 'PopDens',\n       'PctUsePubTrans', 'LemasPctOfficDrugUn', 'Target', 'Race',\n       'income_level_above_median'],\n      dtype='object').",
     "output_type": "error",
     "traceback": [
      "\u001b[0;31m---------------------------------------------------------------------------\u001b[0m",
      "\u001b[0;31mValueError\u001b[0m                                Traceback (most recent call last)",
      "Cell \u001b[0;32mIn[84], line 1\u001b[0m\n\u001b[0;32m----> 1\u001b[0m dset \u001b[38;5;241m=\u001b[39m \u001b[43mget_dataset\u001b[49m\u001b[43m(\u001b[49m\u001b[43mexperiment\u001b[49m\u001b[43m,\u001b[49m\u001b[43m \u001b[49m\n\u001b[1;32m      2\u001b[0m \u001b[43m                  \u001b[49m\u001b[43mpreprocessor_config\u001b[49m\u001b[38;5;241;43m=\u001b[39;49m\u001b[43mPreprocessorConfig\u001b[49m\u001b[43m(\u001b[49m\n\u001b[1;32m      3\u001b[0m \u001b[43m            \u001b[49m\u001b[43mcategorical_features\u001b[49m\u001b[38;5;241;43m=\u001b[39;49m\u001b[38;5;124;43m\"\u001b[39;49m\u001b[38;5;124;43mpassthrough\u001b[39;49m\u001b[38;5;124;43m\"\u001b[39;49m\u001b[43m,\u001b[49m\u001b[43m \u001b[49m\n\u001b[1;32m      4\u001b[0m \u001b[43m                      \u001b[49m\u001b[43mnumeric_features\u001b[49m\u001b[38;5;241;43m=\u001b[39;49m\u001b[38;5;124;43m\"\u001b[39;49m\u001b[38;5;124;43mpassthrough\u001b[39;49m\u001b[38;5;124;43m\"\u001b[39;49m\u001b[43m,\u001b[49m\n\u001b[1;32m      5\u001b[0m \u001b[43m                      \u001b[49m\u001b[43mdropna\u001b[49m\u001b[38;5;241;43m=\u001b[39;49m\u001b[38;5;28;43;01mNone\u001b[39;49;00m\u001b[43m)\u001b[49m\u001b[43m)\u001b[49m\n",
      "File \u001b[0;32m~/tablebench/tableshift/core/getters.py:51\u001b[0m, in \u001b[0;36mget_dataset\u001b[0;34m(name, cache_dir, preprocessor_config, initialize_data, use_cached, **kwargs)\u001b[0m\n\u001b[1;32m     48\u001b[0m     preprocessor_config \u001b[38;5;241m=\u001b[39m expt_config\u001b[38;5;241m.\u001b[39mpreprocessor_config\n\u001b[1;32m     50\u001b[0m \u001b[38;5;28;01mif\u001b[39;00m \u001b[38;5;129;01mnot\u001b[39;00m use_cached:\n\u001b[0;32m---> 51\u001b[0m     dset \u001b[38;5;241m=\u001b[39m \u001b[43mTabularDataset\u001b[49m\u001b[43m(\u001b[49m\n\u001b[1;32m     52\u001b[0m \u001b[43m        \u001b[49m\u001b[43mconfig\u001b[49m\u001b[38;5;241;43m=\u001b[39;49m\u001b[43mdataset_config\u001b[49m\u001b[43m,\u001b[49m\n\u001b[1;32m     53\u001b[0m \u001b[43m        \u001b[49m\u001b[43msplitter\u001b[49m\u001b[38;5;241;43m=\u001b[39;49m\u001b[43mexpt_config\u001b[49m\u001b[38;5;241;43m.\u001b[39;49m\u001b[43msplitter\u001b[49m\u001b[43m,\u001b[49m\n\u001b[1;32m     54\u001b[0m \u001b[43m        \u001b[49m\u001b[43mgrouper\u001b[49m\u001b[38;5;241;43m=\u001b[39;49m\u001b[43mkwargs\u001b[49m\u001b[38;5;241;43m.\u001b[39;49m\u001b[43mget\u001b[49m\u001b[43m(\u001b[49m\u001b[38;5;124;43m\"\u001b[39;49m\u001b[38;5;124;43mgrouper\u001b[39;49m\u001b[38;5;124;43m\"\u001b[39;49m\u001b[43m,\u001b[49m\u001b[43m \u001b[49m\u001b[43mexpt_config\u001b[49m\u001b[38;5;241;43m.\u001b[39;49m\u001b[43mgrouper\u001b[49m\u001b[43m)\u001b[49m\u001b[43m,\u001b[49m\n\u001b[1;32m     55\u001b[0m \u001b[43m        \u001b[49m\u001b[43mpreprocessor_config\u001b[49m\u001b[38;5;241;43m=\u001b[39;49m\u001b[43mpreprocessor_config\u001b[49m\u001b[43m,\u001b[49m\n\u001b[1;32m     56\u001b[0m \u001b[43m        \u001b[49m\u001b[43minitialize_data\u001b[49m\u001b[38;5;241;43m=\u001b[39;49m\u001b[43minitialize_data\u001b[49m\u001b[43m,\u001b[49m\n\u001b[1;32m     57\u001b[0m \u001b[43m        \u001b[49m\u001b[38;5;241;43m*\u001b[39;49m\u001b[38;5;241;43m*\u001b[39;49m\u001b[43mtabular_dataset_kwargs\u001b[49m\u001b[43m)\u001b[49m\n\u001b[1;32m     58\u001b[0m \u001b[38;5;28;01melse\u001b[39;00m:\n\u001b[1;32m     59\u001b[0m     dset \u001b[38;5;241m=\u001b[39m CachedDataset(config\u001b[38;5;241m=\u001b[39mdataset_config,\n\u001b[1;32m     60\u001b[0m                          splitter\u001b[38;5;241m=\u001b[39mexpt_config\u001b[38;5;241m.\u001b[39msplitter,\n\u001b[1;32m     61\u001b[0m                          grouper\u001b[38;5;241m=\u001b[39mkwargs\u001b[38;5;241m.\u001b[39mget(\u001b[38;5;124m\"\u001b[39m\u001b[38;5;124mgrouper\u001b[39m\u001b[38;5;124m\"\u001b[39m, expt_config\u001b[38;5;241m.\u001b[39mgrouper),\n\u001b[1;32m     62\u001b[0m                          preprocessor_config\u001b[38;5;241m=\u001b[39mpreprocessor_config,\n\u001b[1;32m     63\u001b[0m                          initialize_data\u001b[38;5;241m=\u001b[39minitialize_data,\n\u001b[1;32m     64\u001b[0m                          name\u001b[38;5;241m=\u001b[39mname)\n",
      "File \u001b[0;32m~/tablebench/tableshift/core/tabular_dataset.py:198\u001b[0m, in \u001b[0;36mTabularDataset.__init__\u001b[0;34m(self, name, config, splitter, preprocessor_config, grouper, initialize_data, **kwargs)\u001b[0m\n\u001b[1;32m    195\u001b[0m \u001b[38;5;28mself\u001b[39m\u001b[38;5;241m.\u001b[39m_df: Union[pd\u001b[38;5;241m.\u001b[39mDataFrame, \u001b[38;5;28;01mNone\u001b[39;00m] \u001b[38;5;241m=\u001b[39m \u001b[38;5;28;01mNone\u001b[39;00m  \u001b[38;5;66;03m# holds all the data\u001b[39;00m\n\u001b[1;32m    197\u001b[0m \u001b[38;5;28;01mif\u001b[39;00m initialize_data:\n\u001b[0;32m--> 198\u001b[0m     \u001b[38;5;28;43mself\u001b[39;49m\u001b[38;5;241;43m.\u001b[39;49m\u001b[43m_initialize_data\u001b[49m\u001b[43m(\u001b[49m\u001b[43m)\u001b[49m\n",
      "File \u001b[0;32m~/tablebench/tableshift/core/tabular_dataset.py:273\u001b[0m, in \u001b[0;36mTabularDataset._initialize_data\u001b[0;34m(self)\u001b[0m\n\u001b[1;32m    271\u001b[0m data \u001b[38;5;241m=\u001b[39m \u001b[38;5;28mself\u001b[39m\u001b[38;5;241m.\u001b[39mdata_source\u001b[38;5;241m.\u001b[39mget_data()\n\u001b[1;32m    272\u001b[0m data \u001b[38;5;241m=\u001b[39m \u001b[38;5;28mself\u001b[39m\u001b[38;5;241m.\u001b[39m_check_data_source(data)\n\u001b[0;32m--> 273\u001b[0m data \u001b[38;5;241m=\u001b[39m \u001b[38;5;28;43mself\u001b[39;49m\u001b[38;5;241;43m.\u001b[39;49m\u001b[43mtask_config\u001b[49m\u001b[38;5;241;43m.\u001b[39;49m\u001b[43mfeature_list\u001b[49m\u001b[38;5;241;43m.\u001b[39;49m\u001b[43mapply_schema\u001b[49m\u001b[43m(\u001b[49m\n\u001b[1;32m    274\u001b[0m \u001b[43m    \u001b[49m\u001b[43mdata\u001b[49m\u001b[43m,\u001b[49m\u001b[43m \u001b[49m\u001b[43mpassthrough_columns\u001b[49m\u001b[38;5;241;43m=\u001b[39;49m\u001b[43m[\u001b[49m\u001b[38;5;124;43m\"\u001b[39;49m\u001b[38;5;124;43mSplit\u001b[39;49m\u001b[38;5;124;43m\"\u001b[39;49m\u001b[43m]\u001b[49m\u001b[43m)\u001b[49m\n\u001b[1;32m    275\u001b[0m data \u001b[38;5;241m=\u001b[39m \u001b[38;5;28mself\u001b[39m\u001b[38;5;241m.\u001b[39mpreprocessor\u001b[38;5;241m.\u001b[39m_dropna(data)\n\u001b[1;32m    276\u001b[0m data \u001b[38;5;241m=\u001b[39m \u001b[38;5;28mself\u001b[39m\u001b[38;5;241m.\u001b[39m_apply_grouper(data)\n",
      "File \u001b[0;32m~/tablebench/tableshift/core/features.py:174\u001b[0m, in \u001b[0;36mFeatureList.apply_schema\u001b[0;34m(self, df, passthrough_columns)\u001b[0m\n\u001b[1;32m    171\u001b[0m logging\u001b[38;5;241m.\u001b[39mdebug(\u001b[38;5;124mf\u001b[39m\u001b[38;5;124m\"\u001b[39m\u001b[38;5;124mchecking feature \u001b[39m\u001b[38;5;132;01m{\u001b[39;00mf\u001b[38;5;241m.\u001b[39mname\u001b[38;5;132;01m}\u001b[39;00m\u001b[38;5;124m\"\u001b[39m)\n\u001b[1;32m    172\u001b[0m \u001b[38;5;28;01mif\u001b[39;00m f\u001b[38;5;241m.\u001b[39mname \u001b[38;5;129;01mnot\u001b[39;00m \u001b[38;5;129;01min\u001b[39;00m df\u001b[38;5;241m.\u001b[39mcolumns:\n\u001b[1;32m    173\u001b[0m     \u001b[38;5;66;03m# Case: expected this feature, and it is missing.\u001b[39;00m\n\u001b[0;32m--> 174\u001b[0m     \u001b[38;5;28;01mraise\u001b[39;00m \u001b[38;5;167;01mValueError\u001b[39;00m(\u001b[38;5;124mf\u001b[39m\u001b[38;5;124m\"\u001b[39m\u001b[38;5;124mfeature \u001b[39m\u001b[38;5;132;01m{\u001b[39;00mf\u001b[38;5;241m.\u001b[39mname\u001b[38;5;132;01m}\u001b[39;00m\u001b[38;5;124m not present in data with\u001b[39m\u001b[38;5;124m\"\u001b[39m\n\u001b[1;32m    175\u001b[0m                      \u001b[38;5;124mf\u001b[39m\u001b[38;5;124m\"\u001b[39m\u001b[38;5;124mcolumns \u001b[39m\u001b[38;5;132;01m{\u001b[39;00mdf\u001b[38;5;241m.\u001b[39mcolumns\u001b[38;5;132;01m}\u001b[39;00m\u001b[38;5;124m.\u001b[39m\u001b[38;5;124m\"\u001b[39m)\n\u001b[1;32m    177\u001b[0m \u001b[38;5;66;03m# Fill na values (before casting)\u001b[39;00m\n\u001b[1;32m    178\u001b[0m \u001b[38;5;28;01mif\u001b[39;00m f\u001b[38;5;241m.\u001b[39mna_values:\n",
      "\u001b[0;31mValueError\u001b[0m: feature county not present in data withcolumns Index(['state', 'communityname', 'population', 'householdsize', 'agePct12t21',\n       'agePct12t29', 'agePct16t24', 'agePct65up', 'numbUrban', 'pctUrban',\n       'pctWWage', 'pctWFarmSelf', 'pctWInvInc', 'pctWSocSec', 'pctWPubAsst',\n       'pctWRetire', 'medFamInc', 'perCapInc', 'NumUnderPov', 'PctPopUnderPov',\n       'PctLess9thGrade', 'PctNotHSGrad', 'PctBSorMore', 'PctUnemployed',\n       'PctEmploy', 'PctEmplManu', 'PctEmplProfServ', 'PctOccupManu',\n       'PctOccupMgmtProf', 'MalePctDivorce', 'MalePctNevMarr', 'FemalePctDiv',\n       'TotalPctDiv', 'PersPerFam', 'PctFam2Par', 'PctKids2Par',\n       'PctYoungKids2Par', 'PctTeen2Par', 'PctWorkMomYoungKids', 'PctWorkMom',\n       'NumIlleg', 'PctIlleg', 'NumImmig', 'PctImmigRecent', 'PctImmigRec5',\n       'PctImmigRec8', 'PctImmigRec10', 'PctRecentImmig', 'PctRecImmig5',\n       'PctRecImmig8', 'PctRecImmig10', 'PctSpeakEnglOnly',\n       'PctNotSpeakEnglWell', 'PctLargHouseFam', 'PctLargHouseOccup',\n       'PersPerOccupHous', 'PersPerOwnOccHous', 'PersPerRentOccHous',\n       'PctPersOwnOccup', 'PctPersDenseHous', 'PctHousLess3BR', 'MedNumBR',\n       'HousVacant', 'PctHousOccup', 'PctHousOwnOcc', 'PctVacantBoarded',\n       'PctVacMore6Mos', 'MedYrHousBuilt', 'PctHousNoPhone', 'PctWOFullPlumb',\n       'OwnOccLowQuart', 'OwnOccMedVal', 'OwnOccHiQuart', 'RentLowQ',\n       'RentMedian', 'RentHighQ', 'MedRent', 'MedRentPctHousInc',\n       'MedOwnCostPctInc', 'MedOwnCostPctIncNoMtg', 'NumInShelters',\n       'NumStreet', 'PctForeignBorn', 'PctBornSameState', 'PctSameHouse85',\n       'PctSameCity85', 'PctSameState85', 'LandArea', 'PopDens',\n       'PctUsePubTrans', 'LemasPctOfficDrugUn', 'Target', 'Race',\n       'income_level_above_median'],\n      dtype='object')."
     ]
    }
   ],
   "source": [
    "dset = get_dataset(experiment, \n",
    "                  preprocessor_config=PreprocessorConfig(\n",
    "            categorical_features=\"passthrough\", \n",
    "                      numeric_features=\"passthrough\",\n",
    "                      dropna=None))"
>>>>>>> Stashed changes
   ]
  },
  {
   "cell_type": "code",
<<<<<<< Updated upstream
   "execution_count": 44,
=======
   "execution_count": 63,
>>>>>>> Stashed changes
   "id": "81fce2a5",
   "metadata": {},
   "outputs": [],
   "source": [
    "X_tr, y_tr, _, _ = dset.get_pandas(\"train\")"
   ]
  },
  {
   "cell_type": "code",
<<<<<<< Updated upstream
   "execution_count": 45,
   "id": "21cd23a8",
=======
   "execution_count": 64,
   "id": "86231f00",
>>>>>>> Stashed changes
   "metadata": {},
   "outputs": [
    {
     "data": {
      "text/html": [
       "<div>\n",
       "<style scoped>\n",
       "    .dataframe tbody tr th:only-of-type {\n",
       "        vertical-align: middle;\n",
       "    }\n",
       "\n",
       "    .dataframe tbody tr th {\n",
       "        vertical-align: top;\n",
       "    }\n",
       "\n",
       "    .dataframe thead th {\n",
       "        text-align: right;\n",
       "    }\n",
       "</style>\n",
       "<table border=\"1\" class=\"dataframe\">\n",
       "  <thead>\n",
       "    <tr style=\"text-align: right;\">\n",
       "      <th></th>\n",
       "      <th>priors_count</th>\n",
       "      <th>race</th>\n",
       "      <th>juv_misd_count</th>\n",
       "      <th>juv_other_count</th>\n",
       "      <th>juv_fel_count</th>\n",
       "      <th>sex</th>\n",
       "      <th>age</th>\n",
       "    </tr>\n",
       "  </thead>\n",
       "  <tbody>\n",
       "    <tr>\n",
       "      <th>count</th>\n",
<<<<<<< Updated upstream
       "      <td>5.698000e+03</td>\n",
       "      <td>5698.000000</td>\n",
       "      <td>5698.000000</td>\n",
       "      <td>5.698000e+03</td>\n",
       "      <td>5.698000e+03</td>\n",
       "      <td>5698.000000</td>\n",
       "      <td>5.698000e+03</td>\n",
       "    </tr>\n",
       "    <tr>\n",
       "      <th>mean</th>\n",
       "      <td>1.621105e-17</td>\n",
       "      <td>0.339768</td>\n",
       "      <td>0.000000</td>\n",
       "      <td>3.491610e-17</td>\n",
       "      <td>5.486816e-17</td>\n",
       "      <td>0.806423</td>\n",
       "      <td>1.945326e-16</td>\n",
       "    </tr>\n",
       "    <tr>\n",
       "      <th>std</th>\n",
       "      <td>1.000088e+00</td>\n",
       "      <td>0.473672</td>\n",
       "      <td>1.000088</td>\n",
       "      <td>1.000088e+00</td>\n",
       "      <td>1.000088e+00</td>\n",
       "      <td>0.395136</td>\n",
       "      <td>1.000088e+00</td>\n",
       "    </tr>\n",
       "    <tr>\n",
       "      <th>min</th>\n",
       "      <td>-7.076090e-01</td>\n",
       "      <td>0.000000</td>\n",
       "      <td>-0.183119</td>\n",
       "      <td>-2.107327e-01</td>\n",
       "      <td>-1.381073e-01</td>\n",
       "      <td>0.000000</td>\n",
       "      <td>-1.413715e+00</td>\n",
       "    </tr>\n",
       "    <tr>\n",
       "      <th>25%</th>\n",
       "      <td>-7.076090e-01</td>\n",
       "      <td>0.000000</td>\n",
       "      <td>-0.183119</td>\n",
       "      <td>-2.107327e-01</td>\n",
       "      <td>-1.381073e-01</td>\n",
       "      <td>1.000000</td>\n",
       "      <td>-8.275851e-01</td>\n",
       "    </tr>\n",
       "    <tr>\n",
       "      <th>50%</th>\n",
       "      <td>-3.019184e-01</td>\n",
       "      <td>0.000000</td>\n",
       "      <td>-0.183119</td>\n",
       "      <td>-2.107327e-01</td>\n",
       "      <td>-1.381073e-01</td>\n",
       "      <td>1.000000</td>\n",
       "      <td>-3.251883e-01</td>\n",
       "    </tr>\n",
       "    <tr>\n",
       "      <th>75%</th>\n",
       "      <td>3.066175e-01</td>\n",
       "      <td>1.000000</td>\n",
       "      <td>-0.183119</td>\n",
       "      <td>-2.107327e-01</td>\n",
       "      <td>-1.381073e-01</td>\n",
       "      <td>1.000000</td>\n",
       "      <td>6.586720e-01</td>\n",
       "    </tr>\n",
       "    <tr>\n",
       "      <th>max</th>\n",
       "      <td>7.000513e+00</td>\n",
       "      <td>1.000000</td>\n",
       "      <td>26.309721</td>\n",
       "      <td>3.392444e+01</td>\n",
       "      <td>3.970671e+01</td>\n",
       "      <td>1.000000</td>\n",
       "      <td>5.117443e+00</td>\n",
=======
       "      <td>5698.000000</td>\n",
       "      <td>5698.000000</td>\n",
       "      <td>5698.000000</td>\n",
       "      <td>5698.000000</td>\n",
       "      <td>5698.000000</td>\n",
       "      <td>5698.000000</td>\n",
       "      <td>5698.000000</td>\n",
       "    </tr>\n",
       "    <tr>\n",
       "      <th>mean</th>\n",
       "      <td>3.488417</td>\n",
       "      <td>0.339768</td>\n",
       "      <td>0.089856</td>\n",
       "      <td>0.104949</td>\n",
       "      <td>0.069323</td>\n",
       "      <td>0.806423</td>\n",
       "      <td>34.883643</td>\n",
       "    </tr>\n",
       "    <tr>\n",
       "      <th>std</th>\n",
       "      <td>4.930298</td>\n",
       "      <td>0.473672</td>\n",
       "      <td>0.490742</td>\n",
       "      <td>0.498064</td>\n",
       "      <td>0.501991</td>\n",
       "      <td>0.395136</td>\n",
       "      <td>11.943800</td>\n",
       "    </tr>\n",
       "    <tr>\n",
       "      <th>min</th>\n",
       "      <td>0.000000</td>\n",
       "      <td>0.000000</td>\n",
       "      <td>0.000000</td>\n",
       "      <td>0.000000</td>\n",
       "      <td>0.000000</td>\n",
       "      <td>0.000000</td>\n",
       "      <td>18.000000</td>\n",
       "    </tr>\n",
       "    <tr>\n",
       "      <th>25%</th>\n",
       "      <td>0.000000</td>\n",
       "      <td>0.000000</td>\n",
       "      <td>0.000000</td>\n",
       "      <td>0.000000</td>\n",
       "      <td>0.000000</td>\n",
       "      <td>1.000000</td>\n",
       "      <td>25.000000</td>\n",
       "    </tr>\n",
       "    <tr>\n",
       "      <th>50%</th>\n",
       "      <td>2.000000</td>\n",
       "      <td>0.000000</td>\n",
       "      <td>0.000000</td>\n",
       "      <td>0.000000</td>\n",
       "      <td>0.000000</td>\n",
       "      <td>1.000000</td>\n",
       "      <td>31.000000</td>\n",
       "    </tr>\n",
       "    <tr>\n",
       "      <th>75%</th>\n",
       "      <td>5.000000</td>\n",
       "      <td>1.000000</td>\n",
       "      <td>0.000000</td>\n",
       "      <td>0.000000</td>\n",
       "      <td>0.000000</td>\n",
       "      <td>1.000000</td>\n",
       "      <td>42.750000</td>\n",
       "    </tr>\n",
       "    <tr>\n",
       "      <th>max</th>\n",
       "      <td>38.000000</td>\n",
       "      <td>1.000000</td>\n",
       "      <td>13.000000</td>\n",
       "      <td>17.000000</td>\n",
       "      <td>20.000000</td>\n",
       "      <td>1.000000</td>\n",
       "      <td>96.000000</td>\n",
>>>>>>> Stashed changes
       "    </tr>\n",
       "  </tbody>\n",
       "</table>\n",
       "</div>"
      ],
      "text/plain": [
       "       priors_count         race  juv_misd_count  juv_other_count  \\\n",
<<<<<<< Updated upstream
       "count  5.698000e+03  5698.000000     5698.000000     5.698000e+03   \n",
       "mean   1.621105e-17     0.339768        0.000000     3.491610e-17   \n",
       "std    1.000088e+00     0.473672        1.000088     1.000088e+00   \n",
       "min   -7.076090e-01     0.000000       -0.183119    -2.107327e-01   \n",
       "25%   -7.076090e-01     0.000000       -0.183119    -2.107327e-01   \n",
       "50%   -3.019184e-01     0.000000       -0.183119    -2.107327e-01   \n",
       "75%    3.066175e-01     1.000000       -0.183119    -2.107327e-01   \n",
       "max    7.000513e+00     1.000000       26.309721     3.392444e+01   \n",
       "\n",
       "       juv_fel_count          sex           age  \n",
       "count   5.698000e+03  5698.000000  5.698000e+03  \n",
       "mean    5.486816e-17     0.806423  1.945326e-16  \n",
       "std     1.000088e+00     0.395136  1.000088e+00  \n",
       "min    -1.381073e-01     0.000000 -1.413715e+00  \n",
       "25%    -1.381073e-01     1.000000 -8.275851e-01  \n",
       "50%    -1.381073e-01     1.000000 -3.251883e-01  \n",
       "75%    -1.381073e-01     1.000000  6.586720e-01  \n",
       "max     3.970671e+01     1.000000  5.117443e+00  "
      ]
     },
     "execution_count": 45,
=======
       "count   5698.000000  5698.000000     5698.000000      5698.000000   \n",
       "mean       3.488417     0.339768        0.089856         0.104949   \n",
       "std        4.930298     0.473672        0.490742         0.498064   \n",
       "min        0.000000     0.000000        0.000000         0.000000   \n",
       "25%        0.000000     0.000000        0.000000         0.000000   \n",
       "50%        2.000000     0.000000        0.000000         0.000000   \n",
       "75%        5.000000     1.000000        0.000000         0.000000   \n",
       "max       38.000000     1.000000       13.000000        17.000000   \n",
       "\n",
       "       juv_fel_count          sex          age  \n",
       "count    5698.000000  5698.000000  5698.000000  \n",
       "mean        0.069323     0.806423    34.883643  \n",
       "std         0.501991     0.395136    11.943800  \n",
       "min         0.000000     0.000000    18.000000  \n",
       "25%         0.000000     1.000000    25.000000  \n",
       "50%         0.000000     1.000000    31.000000  \n",
       "75%         0.000000     1.000000    42.750000  \n",
       "max        20.000000     1.000000    96.000000  "
      ]
     },
     "execution_count": 64,
>>>>>>> Stashed changes
     "metadata": {},
     "output_type": "execute_result"
    }
   ],
   "source": [
    "X_tr.describe()"
   ]
  },
  {
   "cell_type": "code",
<<<<<<< Updated upstream
   "execution_count": 46,
   "id": "52db0147",
=======
   "execution_count": 80,
   "id": "671a8da8",
   "metadata": {},
   "outputs": [
    {
     "data": {
      "text/plain": [
       "603     0\n",
       "5932    0\n",
       "4172    0\n",
       "732     0\n",
       "2312    0\n",
       "       ..\n",
       "3620    1\n",
       "4536    1\n",
       "1162    1\n",
       "2085    0\n",
       "6535    1\n",
       "Name: race, Length: 5698, dtype: int64"
      ]
     },
     "execution_count": 80,
     "metadata": {},
     "output_type": "execute_result"
    }
   ],
   "source": [
    "X_tr.race"
   ]
  },
  {
   "cell_type": "code",
   "execution_count": 65,
   "id": "1fb0132b",
>>>>>>> Stashed changes
   "metadata": {},
   "outputs": [
    {
     "data": {
      "text/plain": [
       "Index(['priors_count', 'race', 'juv_misd_count', 'juv_other_count',\n",
       "       'juv_fel_count', 'sex', 'age', 'c_charge_degree'],\n",
       "      dtype='object')"
      ]
     },
<<<<<<< Updated upstream
     "execution_count": 46,
=======
     "execution_count": 65,
>>>>>>> Stashed changes
     "metadata": {},
     "output_type": "execute_result"
    }
   ],
   "source": [
    "X_tr.columns"
   ]
  },
  {
   "cell_type": "code",
<<<<<<< Updated upstream
   "execution_count": 51,
   "id": "d4674e8d",
=======
   "execution_count": 67,
   "id": "3a114177",
>>>>>>> Stashed changes
   "metadata": {},
   "outputs": [
    {
     "data": {
      "text/plain": [
       "F    3683\n",
       "M    2015\n",
       "Name: c_charge_degree, dtype: int64"
      ]
     },
<<<<<<< Updated upstream
     "execution_count": 51,
=======
     "execution_count": 67,
>>>>>>> Stashed changes
     "metadata": {},
     "output_type": "execute_result"
    }
   ],
   "source": [
    "X_tr['c_charge_degree'].value_counts()"
   ]
  },
  {
   "cell_type": "code",
<<<<<<< Updated upstream
   "execution_count": 52,
   "id": "e0211510",
=======
   "execution_count": 68,
   "id": "226a8674",
>>>>>>> Stashed changes
   "metadata": {},
   "outputs": [],
   "source": [
    "X_tr['c_charge_degree'] = (X_tr['c_charge_degree'] == 'F').astype(int)"
   ]
  },
  {
   "cell_type": "code",
<<<<<<< Updated upstream
   "execution_count": 26,
   "id": "035625e0",
=======
   "execution_count": 69,
   "id": "dc9d90b8",
>>>>>>> Stashed changes
   "metadata": {},
   "outputs": [],
   "source": [
    "from tableshift.datasets.utils import apply_column_missingness_threshold"
   ]
  },
  {
   "cell_type": "code",
<<<<<<< Updated upstream
   "execution_count": 47,
=======
   "execution_count": 70,
>>>>>>> Stashed changes
   "id": "55e93807",
   "metadata": {},
   "outputs": [],
   "source": [
    "from sklearn.linear_model import LogisticRegressionCV"
   ]
  },
  {
   "cell_type": "code",
<<<<<<< Updated upstream
   "execution_count": 53,
=======
   "execution_count": 71,
>>>>>>> Stashed changes
   "id": "c2830bfa",
   "metadata": {},
   "outputs": [],
   "source": [
    "est = LogisticRegressionCV(cv=3)"
   ]
  },
  {
   "cell_type": "code",
<<<<<<< Updated upstream
   "execution_count": 59,
   "id": "15571747",
=======
   "execution_count": 72,
   "id": "f99ebb37",
>>>>>>> Stashed changes
   "metadata": {},
   "outputs": [
    {
     "data": {
      "text/plain": [
       "1    4595\n",
       "0    1103\n",
       "Name: sex, dtype: int64"
      ]
     },
<<<<<<< Updated upstream
     "execution_count": 59,
=======
     "execution_count": 72,
>>>>>>> Stashed changes
     "metadata": {},
     "output_type": "execute_result"
    }
   ],
   "source": [
    "X_tr['sex'].value_counts()"
   ]
  },
  {
   "cell_type": "code",
<<<<<<< Updated upstream
   "execution_count": 54,
=======
   "execution_count": 73,
>>>>>>> Stashed changes
   "id": "20a0a77a",
   "metadata": {},
   "outputs": [
    {
     "data": {
      "text/html": [
<<<<<<< Updated upstream
       "<style>#sk-container-id-1 {color: black;background-color: white;}#sk-container-id-1 pre{padding: 0;}#sk-container-id-1 div.sk-toggleable {background-color: white;}#sk-container-id-1 label.sk-toggleable__label {cursor: pointer;display: block;width: 100%;margin-bottom: 0;padding: 0.3em;box-sizing: border-box;text-align: center;}#sk-container-id-1 label.sk-toggleable__label-arrow:before {content: \"▸\";float: left;margin-right: 0.25em;color: #696969;}#sk-container-id-1 label.sk-toggleable__label-arrow:hover:before {color: black;}#sk-container-id-1 div.sk-estimator:hover label.sk-toggleable__label-arrow:before {color: black;}#sk-container-id-1 div.sk-toggleable__content {max-height: 0;max-width: 0;overflow: hidden;text-align: left;background-color: #f0f8ff;}#sk-container-id-1 div.sk-toggleable__content pre {margin: 0.2em;color: black;border-radius: 0.25em;background-color: #f0f8ff;}#sk-container-id-1 input.sk-toggleable__control:checked~div.sk-toggleable__content {max-height: 200px;max-width: 100%;overflow: auto;}#sk-container-id-1 input.sk-toggleable__control:checked~label.sk-toggleable__label-arrow:before {content: \"▾\";}#sk-container-id-1 div.sk-estimator input.sk-toggleable__control:checked~label.sk-toggleable__label {background-color: #d4ebff;}#sk-container-id-1 div.sk-label input.sk-toggleable__control:checked~label.sk-toggleable__label {background-color: #d4ebff;}#sk-container-id-1 input.sk-hidden--visually {border: 0;clip: rect(1px 1px 1px 1px);clip: rect(1px, 1px, 1px, 1px);height: 1px;margin: -1px;overflow: hidden;padding: 0;position: absolute;width: 1px;}#sk-container-id-1 div.sk-estimator {font-family: monospace;background-color: #f0f8ff;border: 1px dotted black;border-radius: 0.25em;box-sizing: border-box;margin-bottom: 0.5em;}#sk-container-id-1 div.sk-estimator:hover {background-color: #d4ebff;}#sk-container-id-1 div.sk-parallel-item::after {content: \"\";width: 100%;border-bottom: 1px solid gray;flex-grow: 1;}#sk-container-id-1 div.sk-label:hover label.sk-toggleable__label {background-color: #d4ebff;}#sk-container-id-1 div.sk-serial::before {content: \"\";position: absolute;border-left: 1px solid gray;box-sizing: border-box;top: 0;bottom: 0;left: 50%;z-index: 0;}#sk-container-id-1 div.sk-serial {display: flex;flex-direction: column;align-items: center;background-color: white;padding-right: 0.2em;padding-left: 0.2em;position: relative;}#sk-container-id-1 div.sk-item {position: relative;z-index: 1;}#sk-container-id-1 div.sk-parallel {display: flex;align-items: stretch;justify-content: center;background-color: white;position: relative;}#sk-container-id-1 div.sk-item::before, #sk-container-id-1 div.sk-parallel-item::before {content: \"\";position: absolute;border-left: 1px solid gray;box-sizing: border-box;top: 0;bottom: 0;left: 50%;z-index: -1;}#sk-container-id-1 div.sk-parallel-item {display: flex;flex-direction: column;z-index: 1;position: relative;background-color: white;}#sk-container-id-1 div.sk-parallel-item:first-child::after {align-self: flex-end;width: 50%;}#sk-container-id-1 div.sk-parallel-item:last-child::after {align-self: flex-start;width: 50%;}#sk-container-id-1 div.sk-parallel-item:only-child::after {width: 0;}#sk-container-id-1 div.sk-dashed-wrapped {border: 1px dashed gray;margin: 0 0.4em 0.5em 0.4em;box-sizing: border-box;padding-bottom: 0.4em;background-color: white;}#sk-container-id-1 div.sk-label label {font-family: monospace;font-weight: bold;display: inline-block;line-height: 1.2em;}#sk-container-id-1 div.sk-label-container {text-align: center;}#sk-container-id-1 div.sk-container {/* jupyter's `normalize.less` sets `[hidden] { display: none; }` but bootstrap.min.css set `[hidden] { display: none !important; }` so we also need the `!important` here to be able to override the default hidden behavior on the sphinx rendered scikit-learn.org. See: https://github.com/scikit-learn/scikit-learn/issues/21755 */display: inline-block !important;position: relative;}#sk-container-id-1 div.sk-text-repr-fallback {display: none;}</style><div id=\"sk-container-id-1\" class=\"sk-top-container\"><div class=\"sk-text-repr-fallback\"><pre>LogisticRegressionCV(cv=3)</pre><b>In a Jupyter environment, please rerun this cell to show the HTML representation or trust the notebook. <br />On GitHub, the HTML representation is unable to render, please try loading this page with nbviewer.org.</b></div><div class=\"sk-container\" hidden><div class=\"sk-item\"><div class=\"sk-estimator sk-toggleable\"><input class=\"sk-toggleable__control sk-hidden--visually\" id=\"sk-estimator-id-1\" type=\"checkbox\" checked><label for=\"sk-estimator-id-1\" class=\"sk-toggleable__label sk-toggleable__label-arrow\">LogisticRegressionCV</label><div class=\"sk-toggleable__content\"><pre>LogisticRegressionCV(cv=3)</pre></div></div></div></div></div>"
=======
       "<style>#sk-container-id-2 {color: black;background-color: white;}#sk-container-id-2 pre{padding: 0;}#sk-container-id-2 div.sk-toggleable {background-color: white;}#sk-container-id-2 label.sk-toggleable__label {cursor: pointer;display: block;width: 100%;margin-bottom: 0;padding: 0.3em;box-sizing: border-box;text-align: center;}#sk-container-id-2 label.sk-toggleable__label-arrow:before {content: \"▸\";float: left;margin-right: 0.25em;color: #696969;}#sk-container-id-2 label.sk-toggleable__label-arrow:hover:before {color: black;}#sk-container-id-2 div.sk-estimator:hover label.sk-toggleable__label-arrow:before {color: black;}#sk-container-id-2 div.sk-toggleable__content {max-height: 0;max-width: 0;overflow: hidden;text-align: left;background-color: #f0f8ff;}#sk-container-id-2 div.sk-toggleable__content pre {margin: 0.2em;color: black;border-radius: 0.25em;background-color: #f0f8ff;}#sk-container-id-2 input.sk-toggleable__control:checked~div.sk-toggleable__content {max-height: 200px;max-width: 100%;overflow: auto;}#sk-container-id-2 input.sk-toggleable__control:checked~label.sk-toggleable__label-arrow:before {content: \"▾\";}#sk-container-id-2 div.sk-estimator input.sk-toggleable__control:checked~label.sk-toggleable__label {background-color: #d4ebff;}#sk-container-id-2 div.sk-label input.sk-toggleable__control:checked~label.sk-toggleable__label {background-color: #d4ebff;}#sk-container-id-2 input.sk-hidden--visually {border: 0;clip: rect(1px 1px 1px 1px);clip: rect(1px, 1px, 1px, 1px);height: 1px;margin: -1px;overflow: hidden;padding: 0;position: absolute;width: 1px;}#sk-container-id-2 div.sk-estimator {font-family: monospace;background-color: #f0f8ff;border: 1px dotted black;border-radius: 0.25em;box-sizing: border-box;margin-bottom: 0.5em;}#sk-container-id-2 div.sk-estimator:hover {background-color: #d4ebff;}#sk-container-id-2 div.sk-parallel-item::after {content: \"\";width: 100%;border-bottom: 1px solid gray;flex-grow: 1;}#sk-container-id-2 div.sk-label:hover label.sk-toggleable__label {background-color: #d4ebff;}#sk-container-id-2 div.sk-serial::before {content: \"\";position: absolute;border-left: 1px solid gray;box-sizing: border-box;top: 0;bottom: 0;left: 50%;z-index: 0;}#sk-container-id-2 div.sk-serial {display: flex;flex-direction: column;align-items: center;background-color: white;padding-right: 0.2em;padding-left: 0.2em;position: relative;}#sk-container-id-2 div.sk-item {position: relative;z-index: 1;}#sk-container-id-2 div.sk-parallel {display: flex;align-items: stretch;justify-content: center;background-color: white;position: relative;}#sk-container-id-2 div.sk-item::before, #sk-container-id-2 div.sk-parallel-item::before {content: \"\";position: absolute;border-left: 1px solid gray;box-sizing: border-box;top: 0;bottom: 0;left: 50%;z-index: -1;}#sk-container-id-2 div.sk-parallel-item {display: flex;flex-direction: column;z-index: 1;position: relative;background-color: white;}#sk-container-id-2 div.sk-parallel-item:first-child::after {align-self: flex-end;width: 50%;}#sk-container-id-2 div.sk-parallel-item:last-child::after {align-self: flex-start;width: 50%;}#sk-container-id-2 div.sk-parallel-item:only-child::after {width: 0;}#sk-container-id-2 div.sk-dashed-wrapped {border: 1px dashed gray;margin: 0 0.4em 0.5em 0.4em;box-sizing: border-box;padding-bottom: 0.4em;background-color: white;}#sk-container-id-2 div.sk-label label {font-family: monospace;font-weight: bold;display: inline-block;line-height: 1.2em;}#sk-container-id-2 div.sk-label-container {text-align: center;}#sk-container-id-2 div.sk-container {/* jupyter's `normalize.less` sets `[hidden] { display: none; }` but bootstrap.min.css set `[hidden] { display: none !important; }` so we also need the `!important` here to be able to override the default hidden behavior on the sphinx rendered scikit-learn.org. See: https://github.com/scikit-learn/scikit-learn/issues/21755 */display: inline-block !important;position: relative;}#sk-container-id-2 div.sk-text-repr-fallback {display: none;}</style><div id=\"sk-container-id-2\" class=\"sk-top-container\"><div class=\"sk-text-repr-fallback\"><pre>LogisticRegressionCV(cv=3)</pre><b>In a Jupyter environment, please rerun this cell to show the HTML representation or trust the notebook. <br />On GitHub, the HTML representation is unable to render, please try loading this page with nbviewer.org.</b></div><div class=\"sk-container\" hidden><div class=\"sk-item\"><div class=\"sk-estimator sk-toggleable\"><input class=\"sk-toggleable__control sk-hidden--visually\" id=\"sk-estimator-id-2\" type=\"checkbox\" checked><label for=\"sk-estimator-id-2\" class=\"sk-toggleable__label sk-toggleable__label-arrow\">LogisticRegressionCV</label><div class=\"sk-toggleable__content\"><pre>LogisticRegressionCV(cv=3)</pre></div></div></div></div></div>"
>>>>>>> Stashed changes
      ],
      "text/plain": [
       "LogisticRegressionCV(cv=3)"
      ]
     },
<<<<<<< Updated upstream
     "execution_count": 54,
=======
     "execution_count": 73,
>>>>>>> Stashed changes
     "metadata": {},
     "output_type": "execute_result"
    }
   ],
   "source": [
    "est.fit(X_tr, y_tr)"
   ]
  },
  {
   "cell_type": "code",
<<<<<<< Updated upstream
   "execution_count": 55,
=======
   "execution_count": 74,
>>>>>>> Stashed changes
   "id": "d3d989fa",
   "metadata": {},
   "outputs": [],
   "source": [
    "preds = est.predict(X_tr)"
   ]
  },
  {
   "cell_type": "code",
<<<<<<< Updated upstream
   "execution_count": 56,
=======
   "execution_count": 75,
>>>>>>> Stashed changes
   "id": "decf3a59",
   "metadata": {},
   "outputs": [
    {
     "data": {
      "text/plain": [
<<<<<<< Updated upstream
       "0.0    3426\n",
       "1.0    2272\n",
       "dtype: int64"
      ]
     },
     "execution_count": 56,
=======
       "0.0    3325\n",
       "1.0    2373\n",
       "dtype: int64"
      ]
     },
     "execution_count": 75,
>>>>>>> Stashed changes
     "metadata": {},
     "output_type": "execute_result"
    }
   ],
   "source": [
    "pd.Series(preds).value_counts()"
   ]
  },
  {
   "cell_type": "code",
<<<<<<< Updated upstream
   "execution_count": 57,
=======
   "execution_count": 76,
>>>>>>> Stashed changes
   "id": "134d727e",
   "metadata": {},
   "outputs": [
    {
     "data": {
      "text/plain": [
       "(1, 8)"
      ]
     },
<<<<<<< Updated upstream
     "execution_count": 57,
=======
     "execution_count": 76,
>>>>>>> Stashed changes
     "metadata": {},
     "output_type": "execute_result"
    }
   ],
   "source": [
    "est.coef_.shape"
   ]
  },
  {
   "cell_type": "code",
<<<<<<< Updated upstream
   "execution_count": 58,
=======
   "execution_count": 77,
>>>>>>> Stashed changes
   "id": "7da679b9",
   "metadata": {},
   "outputs": [
    {
     "data": {
      "text/html": [
       "<div>\n",
       "<style scoped>\n",
       "    .dataframe tbody tr th:only-of-type {\n",
       "        vertical-align: middle;\n",
       "    }\n",
       "\n",
       "    .dataframe tbody tr th {\n",
       "        vertical-align: top;\n",
       "    }\n",
       "\n",
       "    .dataframe thead th {\n",
       "        text-align: right;\n",
       "    }\n",
       "</style>\n",
       "<table border=\"1\" class=\"dataframe\">\n",
       "  <thead>\n",
       "    <tr style=\"text-align: right;\">\n",
       "      <th></th>\n",
       "      <th>coef</th>\n",
       "    </tr>\n",
       "    <tr>\n",
       "      <th>name</th>\n",
       "      <th></th>\n",
       "    </tr>\n",
       "  </thead>\n",
       "  <tbody>\n",
       "    <tr>\n",
       "      <th>age</th>\n",
<<<<<<< Updated upstream
       "      <td>-0.429343</td>\n",
       "    </tr>\n",
       "    <tr>\n",
       "      <th>race</th>\n",
       "      <td>-0.057492</td>\n",
       "    </tr>\n",
       "    <tr>\n",
       "      <th>juv_misd_count</th>\n",
       "      <td>0.054642</td>\n",
       "    </tr>\n",
       "    <tr>\n",
       "      <th>juv_other_count</th>\n",
       "      <td>0.087126</td>\n",
       "    </tr>\n",
       "    <tr>\n",
       "      <th>juv_fel_count</th>\n",
       "      <td>0.089671</td>\n",
       "    </tr>\n",
       "    <tr>\n",
       "      <th>c_charge_degree</th>\n",
       "      <td>0.151556</td>\n",
       "    </tr>\n",
       "    <tr>\n",
       "      <th>sex</th>\n",
       "      <td>0.188382</td>\n",
       "    </tr>\n",
       "    <tr>\n",
       "      <th>priors_count</th>\n",
       "      <td>0.612031</td>\n",
=======
       "      <td>-0.045731</td>\n",
       "    </tr>\n",
       "    <tr>\n",
       "      <th>race</th>\n",
       "      <td>-0.010266</td>\n",
       "    </tr>\n",
       "    <tr>\n",
       "      <th>juv_misd_count</th>\n",
       "      <td>0.012216</td>\n",
       "    </tr>\n",
       "    <tr>\n",
       "      <th>juv_fel_count</th>\n",
       "      <td>0.019890</td>\n",
       "    </tr>\n",
       "    <tr>\n",
       "      <th>juv_other_count</th>\n",
       "      <td>0.027088</td>\n",
       "    </tr>\n",
       "    <tr>\n",
       "      <th>c_charge_degree</th>\n",
       "      <td>0.038136</td>\n",
       "    </tr>\n",
       "    <tr>\n",
       "      <th>sex</th>\n",
       "      <td>0.045528</td>\n",
       "    </tr>\n",
       "    <tr>\n",
       "      <th>priors_count</th>\n",
       "      <td>0.154634</td>\n",
>>>>>>> Stashed changes
       "    </tr>\n",
       "  </tbody>\n",
       "</table>\n",
       "</div>"
      ],
      "text/plain": [
       "                     coef\n",
       "name                     \n",
<<<<<<< Updated upstream
       "age             -0.429343\n",
       "race            -0.057492\n",
       "juv_misd_count   0.054642\n",
       "juv_other_count  0.087126\n",
       "juv_fel_count    0.089671\n",
       "c_charge_degree  0.151556\n",
       "sex              0.188382\n",
       "priors_count     0.612031"
      ]
     },
     "execution_count": 58,
=======
       "age             -0.045731\n",
       "race            -0.010266\n",
       "juv_misd_count   0.012216\n",
       "juv_fel_count    0.019890\n",
       "juv_other_count  0.027088\n",
       "c_charge_degree  0.038136\n",
       "sex              0.045528\n",
       "priors_count     0.154634"
      ]
     },
     "execution_count": 77,
>>>>>>> Stashed changes
     "metadata": {},
     "output_type": "execute_result"
    }
   ],
   "source": [
    "import pandas as pd\n",
    "pd.DataFrame({'name': est.feature_names_in_,\n",
    "              'coef': est.coef_.ravel()}).set_index('name').sort_values('coef')"
   ]
  },
  {
   "cell_type": "code",
<<<<<<< Updated upstream
   "execution_count": null,
   "id": "69622e18",
   "metadata": {},
   "outputs": [],
   "source": [
    "pd.crosstab(X_tr.kbin__ICULOS, y_tr)"
=======
   "execution_count": 61,
   "id": "53889530",
   "metadata": {},
   "outputs": [
    {
     "data": {
      "text/plain": [
       "0.25   -0.707609\n",
       "0.50   -0.301918\n",
       "0.75    0.306618\n",
       "Name: priors_count, dtype: float64"
      ]
     },
     "execution_count": 61,
     "metadata": {},
     "output_type": "execute_result"
    }
   ],
   "source": [
    "X_tr.priors_count.quantile([0.25,0.5,0.75])"
   ]
  },
  {
   "cell_type": "code",
   "execution_count": 79,
   "id": "da55bab4",
   "metadata": {},
   "outputs": [
    {
     "data": {
      "text/plain": [
       "(array([2.807e+03, 6.570e+02, 4.620e+02, 5.680e+02, 1.900e+02, 1.640e+02,\n",
       "        1.360e+02, 2.090e+02, 7.700e+01, 6.300e+01, 6.100e+01, 8.400e+01,\n",
       "        2.900e+01, 3.300e+01, 2.200e+01, 4.000e+01, 2.000e+01, 1.700e+01,\n",
       "        2.100e+01, 7.000e+00, 4.000e+00, 6.000e+00, 1.100e+01, 2.000e+00,\n",
       "        1.000e+00, 0.000e+00, 2.000e+00, 1.000e+00, 1.000e+00, 3.000e+00]),\n",
       " array([ 0.        ,  1.26666667,  2.53333333,  3.8       ,  5.06666667,\n",
       "         6.33333333,  7.6       ,  8.86666667, 10.13333333, 11.4       ,\n",
       "        12.66666667, 13.93333333, 15.2       , 16.46666667, 17.73333333,\n",
       "        19.        , 20.26666667, 21.53333333, 22.8       , 24.06666667,\n",
       "        25.33333333, 26.6       , 27.86666667, 29.13333333, 30.4       ,\n",
       "        31.66666667, 32.93333333, 34.2       , 35.46666667, 36.73333333,\n",
       "        38.        ]),\n",
       " <BarContainer object of 30 artists>)"
      ]
     },
     "execution_count": 79,
     "metadata": {},
     "output_type": "execute_result"
    },
    {
     "data": {
      "image/png": "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\n",
      "text/plain": [
       "<Figure size 640x480 with 1 Axes>"
      ]
     },
     "metadata": {},
     "output_type": "display_data"
    }
   ],
   "source": [
    "plt.hist(X_tr.priors_count, bins=30)"
   ]
  },
  {
   "cell_type": "code",
   "execution_count": 86,
   "id": "d17b7e6a",
   "metadata": {},
   "outputs": [],
   "source": [
    "# everything below this line is purely exploratory"
>>>>>>> Stashed changes
   ]
  },
  {
   "cell_type": "code",
<<<<<<< Updated upstream
   "execution_count": null,
   "id": "6f8f09d2",
   "metadata": {},
   "outputs": [],
   "source": [
    "from tablebench.core.data_source import PhysioNetDataSource\n",
    "raw_data = PhysioNetDataSource(cache_dir=cache_dir).get_data()"
=======
   "execution_count": 88,
   "id": "a3d1db45",
   "metadata": {},
   "outputs": [],
   "source": [
    "df = pd.read_csv(\"/homes/gws/jpgard/tablebench/tmp/2012-2013-data-with-predictions-4-final.csv\")"
>>>>>>> Stashed changes
   ]
  },
  {
   "cell_type": "code",
<<<<<<< Updated upstream
   "execution_count": null,
   "id": "435a8f8d",
=======
   "execution_count": 89,
   "id": "225a77fa",
   "metadata": {},
   "outputs": [
    {
     "data": {
      "text/plain": [
       "['Average_confidence(BORED)',\n",
       " 'Average_confidence(CONCENTRATING)',\n",
       " 'Average_confidence(CONFUSED)',\n",
       " 'Average_confidence(FRUSTRATED)',\n",
       " 'actions',\n",
       " 'answer_id',\n",
       " 'answer_text',\n",
       " 'assignment_id',\n",
       " 'assistment_id',\n",
       " 'attempt_count',\n",
       " 'base_sequence_id',\n",
       " 'bottom_hint',\n",
       " 'correct',\n",
       " 'end_time',\n",
       " 'first_action',\n",
       " 'hint_count',\n",
       " 'ms_first_response',\n",
       " 'original',\n",
       " 'overlap_time',\n",
       " 'position',\n",
       " 'problem_id',\n",
       " 'problem_log_id',\n",
       " 'problem_type',\n",
       " 'problemlogid',\n",
       " 'school_id',\n",
       " 'sequence_id',\n",
       " 'skill',\n",
       " 'skill_id',\n",
       " 'start_time',\n",
       " 'student_class_id',\n",
       " 'teacher_id',\n",
       " 'template_id',\n",
       " 'tutor_mode',\n",
       " 'type',\n",
       " 'user_id']"
      ]
     },
     "execution_count": 89,
     "metadata": {},
     "output_type": "execute_result"
    }
   ],
   "source": [
    "sorted(df.columns)"
   ]
  },
  {
   "cell_type": "code",
   "execution_count": 95,
   "id": "c05b71d0",
   "metadata": {},
   "outputs": [
    {
     "data": {
      "text/plain": [
       "1.000    4141564\n",
       "0.000    1976383\n",
       "0.500       2395\n",
       "0.750       1629\n",
       "0.250       1211\n",
       "0.600         24\n",
       "0.975         24\n",
       "0.850         10\n",
       "0.650         10\n",
       "0.950          9\n",
       "0.875          6\n",
       "0.625          4\n",
       "0.375          1\n",
       "Name: correct, dtype: int64"
      ]
     },
     "execution_count": 95,
     "metadata": {},
     "output_type": "execute_result"
    }
   ],
   "source": [
    "df.correct.value_counts()"
   ]
  },
  {
   "cell_type": "code",
   "execution_count": 97,
   "id": "5376cd27",
>>>>>>> Stashed changes
   "metadata": {},
   "outputs": [],
   "source": [
    "import numpy as np\n",
<<<<<<< Updated upstream
    "raw_data['ICULOS'].quantile(np.linspace(0,1,11))"
=======
    "# keep only binary correct/incorrect\n",
    "df = df[np.isin(df.correct.values, (0,1))]"
   ]
  },
  {
   "cell_type": "code",
   "execution_count": 99,
   "id": "1a4041ef",
   "metadata": {},
   "outputs": [
    {
     "data": {
      "text/plain": [
       "1.0    4141564\n",
       "0.0    1976383\n",
       "Name: correct, dtype: int64"
      ]
     },
     "execution_count": 99,
     "metadata": {},
     "output_type": "execute_result"
    }
   ],
   "source": [
    "df.correct.value_counts()"
   ]
  },
  {
   "cell_type": "code",
   "execution_count": 104,
   "id": "1ca14e0d",
   "metadata": {},
   "outputs": [
    {
     "data": {
      "text/plain": [
       "5450.0     618455\n",
       "5444.0     350428\n",
       "76.0       236916\n",
       "5104.0     231942\n",
       "7857.0     209435\n",
       "            ...  \n",
       "8265.0          1\n",
       "11808.0         1\n",
       "12176.0         1\n",
       "12099.0         1\n",
       "12199.0         1\n",
       "Name: school_id, Length: 661, dtype: int64"
      ]
     },
     "execution_count": 104,
     "metadata": {},
     "output_type": "execute_result"
    }
   ],
   "source": [
    "df['school_id'].value_counts()"
   ]
  },
  {
   "cell_type": "code",
   "execution_count": 103,
   "id": "766786d0",
   "metadata": {},
   "outputs": [
    {
     "data": {
      "text/plain": [
       "problem_log_id                         int64\n",
       "skill                                 object\n",
       "problem_id                             int64\n",
       "user_id                                int64\n",
       "assignment_id                          int64\n",
       "assistment_id                          int64\n",
       "start_time                            object\n",
       "end_time                              object\n",
       "problem_type                          object\n",
       "original                               int64\n",
       "correct                              float64\n",
       "bottom_hint                          float64\n",
       "hint_count                             int64\n",
       "actions                               object\n",
       "attempt_count                          int64\n",
       "ms_first_response                      int64\n",
       "tutor_mode                            object\n",
       "sequence_id                            int64\n",
       "student_class_id                       int64\n",
       "position                               int64\n",
       "type                                  object\n",
       "base_sequence_id                       int64\n",
       "skill_id                             float64\n",
       "teacher_id                             int64\n",
       "school_id                            float64\n",
       "overlap_time                           int64\n",
       "template_id                            int64\n",
       "answer_id                            float64\n",
       "answer_text                           object\n",
       "first_action                           int64\n",
       "problemlogid                           int64\n",
       "Average_confidence(FRUSTRATED)       float64\n",
       "Average_confidence(CONFUSED)         float64\n",
       "Average_confidence(CONCENTRATING)    float64\n",
       "Average_confidence(BORED)            float64\n",
       "dtype: object"
      ]
     },
     "execution_count": 103,
     "metadata": {},
     "output_type": "execute_result"
    }
   ],
   "source": [
    "df.dtypes"
   ]
  },
  {
   "cell_type": "code",
   "execution_count": 98,
   "id": "9a2eeb94",
   "metadata": {},
   "outputs": [
    {
     "ename": "SyntaxError",
     "evalue": "invalid syntax (3689885903.py, line 7)",
     "output_type": "error",
     "traceback": [
      "\u001b[0;36m  Cell \u001b[0;32mIn[98], line 7\u001b[0;36m\u001b[0m\n\u001b[0;31m    X_tr = df[]\u001b[0m\n\u001b[0m              ^\u001b[0m\n\u001b[0;31mSyntaxError\u001b[0m\u001b[0;31m:\u001b[0m invalid syntax\n"
     ]
    }
   ],
   "source": [
    "x_cols = ['Average_confidence(BORED)',\n",
    " 'Average_confidence(CONCENTRATING)',\n",
    " 'Average_confidence(CONFUSED)',\n",
    " 'Average_confidence(FRUSTRATED)',\n",
    "          'attempt_count',\n",
    "          'tutor_mode',\n",
    "          'type',\n",
    "          'skill'\n",
    "         ]\n",
    "X_tr = df[]\n",
    "y_tr = df['correct'].astype(int)"
>>>>>>> Stashed changes
   ]
  },
  {
   "cell_type": "code",
   "execution_count": null,
<<<<<<< Updated upstream
   "id": "53889530",
=======
   "id": "16c9d60e",
>>>>>>> Stashed changes
   "metadata": {},
   "outputs": [],
   "source": []
  }
 ],
 "metadata": {
  "kernelspec": {
   "display_name": "Python 3 (ipykernel)",
   "language": "python",
   "name": "python3"
  },
  "language_info": {
   "codemirror_mode": {
    "name": "ipython",
    "version": 3
   },
   "file_extension": ".py",
   "mimetype": "text/x-python",
   "name": "python",
   "nbconvert_exporter": "python",
   "pygments_lexer": "ipython3",
   "version": "3.8.15"
  }
 },
 "nbformat": 4,
 "nbformat_minor": 5
}
